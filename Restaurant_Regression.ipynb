{
 "cells": [
  {
   "cell_type": "code",
   "execution_count": 4,
   "id": "8f6b0d67-85a8-437f-8199-0b5e36c7131a",
   "metadata": {},
   "outputs": [],
   "source": [
    "# Imports\n",
    "\n",
    "import numpy as np\n",
    "import pandas as pd\n",
    "import json\n",
    "from sklearn.model_selection import train_test_split\n",
    "from sklearn.linear_model import LinearRegression\n",
    "from sklearn.metrics import mean_squared_error, r2_score"
   ]
  },
  {
   "cell_type": "code",
   "execution_count": 6,
   "id": "a4324d04-b0a6-433e-8f28-d53c60cc1d47",
   "metadata": {},
   "outputs": [],
   "source": [
    "# Importing and defining data\n",
    "\n",
    "file_path1 = \"D:/anaconda/yelp_regression_project/yelp_data.json\"\n",
    "file_path2 = \"D:/anaconda/yelp_regression_project/yelp_business.json\"\n",
    "file_path3 = \"D:/anaconda/yelp_regression_project/yelp_review.json\"\n",
    "file_path4 = \"D:/anaconda/yelp_regression_project/yelp_checkin.json\"\n",
    "file_path5 = \"D:/anaconda/yelp_regression_project/yelp_tip.json\"\n",
    "file_path6 = \"D:/anaconda/yelp_regression_project/yelp_user.json\"\n",
    "file_path7 = \"D:/anaconda/yelp_regression_project/yelp_photo.json\"\n",
    "yelp_data = pd.read_json(file_path1, lines=True)\n",
    "yelp_business = pd.read_json(file_path2, lines=True)\n",
    "yelp_review = pd.read_json(file_path3, lines=True)\n",
    "yelp_checkin = pd.read_json(file_path4, lines=True)\n",
    "yelp_tip = pd.read_json(file_path5, lines=True)\n",
    "yelp_user = pd.read_json(file_path6, lines=True)\n",
    "yelp_photo = pd.read_json(file_path7, lines=True)"
   ]
  },
  {
   "cell_type": "code",
   "execution_count": 353,
   "id": "8429a612-e702-45aa-835f-1dd8d91c2461",
   "metadata": {},
   "outputs": [
    {
     "name": "stdout",
     "output_type": "stream",
     "text": [
      "['address', 'attributes', 'business_id', 'categories', 'city', 'hours', 'is_open', 'latitude', 'longitude', 'name', 'neighborhood', 'postal_code', 'review_count', 'stars', 'state', 'alcohol?', 'has_bike_parking', 'takes_credit_cards', 'good_for_kids', 'price_range', 'take_reservations', 'has_wifi', 'pic_count', 'address', 'alcohol?', 'attributes', 'business_id', 'categories', 'city', 'good_for_kids', 'has_bike_parking', 'has_wifi', 'hours', 'is_open', 'latitude', 'longitude', 'name', 'neighborhood', 'postal_code', 'price_range', 'review_count', 'stars', 'state', 'take_reservations', 'takes_credit_cards', 'business_id', 'average_review_age', 'average_review_length', 'average_review_sentiment', 'number_funny_votes', 'number_cool_votes', 'number_useful_votes', 'business_id', 'time', 'weekday_checkins', 'weekend_checkins', 'business_id', 'average_tip_length', 'number_tips', 'business_id', 'average_number_friends', 'average_days_on_yelp', 'average_number_fans', 'average_review_count', 'average_number_years_elite', 'business_id', 'average_caption_length', 'number_pics']\n"
     ]
    }
   ],
   "source": [
    "# Defining X and y\n",
    "\n",
    "x = pd.concat([yelp_data, yelp_business, yelp_review, yelp_checkin, yelp_tip, yelp_user, yelp_photo], axis = 1)\n",
    "X = x.head(1000)\n",
    "\n",
    "stars = X[['stars']]\n",
    "y = stars.head(1000)\n",
    "\n",
    "print(X.columns.tolist())"
   ]
  },
  {
   "cell_type": "code",
   "execution_count": 357,
   "id": "f9c8434a-c7b0-42e4-ae2d-30736e98c018",
   "metadata": {},
   "outputs": [
    {
     "name": "stdout",
     "output_type": "stream",
     "text": [
      "['alcohol?', 'good_for_kids', 'has_bike_parking', 'has_wifi', 'is_open', 'latitude', 'longitude', 'review_count', 'take_reservations', 'takes_credit_cards']\n",
      "['average_review_age', 'average_review_length', 'average_review_sentiment', 'number_funny_votes', 'number_cool_votes', 'number_useful_votes']\n",
      "['weekday_checkins', 'weekend_checkins']\n",
      "['average_tip_length', 'number_tips']\n",
      "['average_number_friends', 'average_days_on_yelp', 'average_number_fans', 'average_review_count', 'average_number_years_elite']\n",
      "['average_caption_length', 'number_pics']\n"
     ]
    }
   ],
   "source": [
    "# Cleaning data\n",
    "\n",
    "X = X.copy()\n",
    "X_data.replace({True: 1, False: 0})\n",
    "\n",
    "# Separate data sets\n",
    "\n",
    "X_data = X.iloc[:, 0:23]\n",
    "X_review = X.iloc[:, 46:52]\n",
    "X_checkin = X.iloc[:, 53:56]\n",
    "X_tip = X.iloc[:, 57:59]\n",
    "X_user = X.iloc[:, 60:65]\n",
    "X_photo = X.iloc[:, 66:68]\n",
    "\n",
    "# Put irrelevant data at the start for deletion\n",
    "\n",
    "X_data = X_data[['address', 'attributes', 'business_id', 'categories', 'city', 'name', 'postal_code', 'neighborhood', 'price_range', 'state', 'business_id', 'hours', 'stars', 'alcohol?', 'good_for_kids', 'has_bike_parking', 'has_wifi', 'is_open', 'latitude', 'longitude', 'review_count', 'take_reservations', 'takes_credit_cards']]\n",
    "\n",
    "# Delete irrelevant (worded) data + stars\n",
    "\n",
    "X_data = X_data.iloc[:, 13:23]\n",
    "X_checkin = X_checkin.iloc[:, 1:3]\n",
    "\n",
    "\n",
    "print(X_data.columns.tolist())\n",
    "print(X_review.columns.tolist())\n",
    "print(X_checkin.columns.tolist())\n",
    "print(X_tip.columns.tolist())\n",
    "print(X_user.columns.tolist())\n",
    "print(X_photo.columns.tolist())"
   ]
  },
  {
   "cell_type": "code",
   "execution_count": 359,
   "id": "dafd7563-d766-4e1d-b789-1ad1bf5a0a7c",
   "metadata": {},
   "outputs": [
    {
     "name": "stdout",
     "output_type": "stream",
     "text": [
      "[[-0.29035001 -0.14910713  0.27285689 -0.12187964 -0.02092519 -0.00748512\n",
      "  -0.00193574  0.00069156  0.27065041  0.02379782]\n",
      " [-0.29035001 -0.14910713  0.27285689 -0.12187964 -0.02092519 -0.00748512\n",
      "  -0.00193574  0.00069156  0.27065041  0.02379782]]\n",
      "[[6.37815062e-05 1.25348704e-04 3.57424150e-02 9.31906374e-05\n",
      "  2.76904171e-04 4.01389018e-05]\n",
      " [6.37815062e-05 1.25348704e-04 3.57424150e-02 9.31906374e-05\n",
      "  2.76904171e-04 4.01389018e-05]]\n",
      "[[-0.00079578  0.00110114]\n",
      " [-0.00079578  0.00110114]]\n",
      "[[ 0.00028828 -0.00217958]\n",
      " [ 0.00028828 -0.00217958]]\n",
      "[[ 5.87431665e-04  1.86655675e-04 -4.41502930e-03 -7.70740089e-05\n",
      "  -4.34873409e-02]\n",
      " [ 5.87431665e-04  1.86655675e-04 -4.41502930e-03 -7.70740089e-05\n",
      "  -4.34873409e-02]]\n",
      "[[ 0.00114968 -0.00297282]\n",
      " [ 0.00114968 -0.00297282]]\n"
     ]
    }
   ],
   "source": [
    "# Linear regression\n",
    "\n",
    "X_data_train, X_data_test, y_data_train, y_data_test = train_test_split(X_data, y, test_size = 0.2, random_state = 42)\n",
    "X_review_train, X_review_test, y_review_train, y_review_test = train_test_split(X_review, y, test_size = 0.2, random_state = 42)\n",
    "X_checkin_train, X_checkin_test, y_checkin_train, y_checkin_test = train_test_split(X_checkin, y, test_size = 0.2, random_state = 42)\n",
    "X_tip_train, X_tip_test, y_tip_train, y_tip_test = train_test_split(X_tip, y, test_size = 0.2, random_state = 42)\n",
    "X_user_train, X_user_test, y_user_train, y_user_test = train_test_split(X_user, y, test_size = 0.2, random_state = 42)\n",
    "X_photo_train, X_photo_test, y_photo_train, y_photo_test = train_test_split(X_photo, y, test_size = 0.2, random_state = 42)\n",
    "\n",
    "lrg_data = LinearRegression().fit(X_data_train, y_data_train)\n",
    "lrg_review = LinearRegression().fit(X_review_train, y_review_train)\n",
    "lrg_checkin = LinearRegression().fit(X_checkin_train, y_checkin_train)\n",
    "lrg_tip = LinearRegression().fit(X_tip_train, y_tip_train)\n",
    "lrg_user = LinearRegression().fit(X_user_train, y_user_train)\n",
    "lrg_photo = LinearRegression().fit(X_photo_train, y_photo_train)\n",
    "\n",
    "y_data_test_pred = lrg_data.predict(X_data_test)\n",
    "y_review_test_pred = lrg_review.predict(X_review_test)\n",
    "y_checkin_test_pred = lrg_checkin.predict(X_checkin_test)\n",
    "y_tip_test_pred = lrg_tip.predict(X_tip_test)\n",
    "y_user_test_pred = lrg_user.predict(X_user_test)\n",
    "y_photo_test_pred = lrg_photo.predict(X_photo_test)\n",
    "\n",
    "print(lrg_data.coef_)\n",
    "print(lrg_review.coef_)\n",
    "print(lrg_checkin.coef_)\n",
    "print(lrg_tip.coef_)\n",
    "print(lrg_user.coef_)\n",
    "print(lrg_photo.coef_)"
   ]
  },
  {
   "cell_type": "code",
   "execution_count": 363,
   "id": "093dcf9c-b11f-4ffe-bf78-a1976b73cd0a",
   "metadata": {},
   "outputs": [
    {
     "name": "stdout",
     "output_type": "stream",
     "text": [
      "R^2 score for data test set: -0.011957550208676615\n",
      "R^2 score for review test set: -0.018178350197702864\n",
      "R^2 score for checkin test set: -0.018626670979434046\n",
      "R^2 score for tip test set: -0.004113833804468836\n",
      "R^2 score for user test set: -0.06681411826262917\n",
      "R^2 score for photo test set: -0.01929742333619533\n"
     ]
    }
   ],
   "source": [
    "# Evaluating model with R-Squared value\n",
    "\n",
    "# Calculate and print R^2 scores for all datasets\n",
    "data_r_squared_test = r2_score(y_data_test, y_data_test_pred)\n",
    "print(\"R^2 score for data test set:\", data_r_squared_test)\n",
    "\n",
    "review_r_squared_test = r2_score(y_review_test, y_review_test_pred)\n",
    "print(\"R^2 score for review test set:\", review_r_squared_test)\n",
    "\n",
    "checkin_r_squared_test = r2_score(y_checkin_test, y_checkin_test_pred)\n",
    "print(\"R^2 score for checkin test set:\", checkin_r_squared_test)\n",
    "\n",
    "tip_r_squared_test = r2_score(y_tip_test, y_tip_test_pred)\n",
    "print(\"R^2 score for tip test set:\", tip_r_squared_test)\n",
    "\n",
    "user_r_squared_test = r2_score(y_user_test, y_user_test_pred)\n",
    "print(\"R^2 score for user test set:\", user_r_squared_test)\n",
    "\n",
    "photo_r_squared_test = r2_score(y_photo_test, y_photo_test_pred)\n",
    "print(\"R^2 score for photo test set:\", photo_r_squared_test)"
   ]
  },
  {
   "cell_type": "code",
   "execution_count": null,
   "id": "4e7fc1e5-93fb-422c-beac-57413f2de19d",
   "metadata": {},
   "outputs": [],
   "source": [
    "# These results show that no group of this data is significantly correlated with the number of stars for a restaurant.\n",
    "# The model could be improved by incorporating lost data like 'hours'.\n",
    "## To fix: could try using a different parameter than 'stars' (change y formula and reinsert 'stars' into data set)"
   ]
  }
 ],
 "metadata": {
  "kernelspec": {
   "display_name": "Python [conda env:base] *",
   "language": "python",
   "name": "conda-base-py"
  },
  "language_info": {
   "codemirror_mode": {
    "name": "ipython",
    "version": 3
   },
   "file_extension": ".py",
   "mimetype": "text/x-python",
   "name": "python",
   "nbconvert_exporter": "python",
   "pygments_lexer": "ipython3",
   "version": "3.12.7"
  }
 },
 "nbformat": 4,
 "nbformat_minor": 5
}
