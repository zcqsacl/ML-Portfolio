{
  "nbformat": 4,
  "nbformat_minor": 0,
  "metadata": {
    "colab": {
      "provenance": []
    },
    "kernelspec": {
      "name": "python3",
      "display_name": "Python 3"
    },
    "language_info": {
      "name": "python"
    }
  },
  "cells": [
    {
      "cell_type": "code",
      "execution_count": 18,
      "metadata": {
        "colab": {
          "base_uri": "https://localhost:8080/"
        },
        "id": "mTPdusYHBu3t",
        "outputId": "c5df1335-0714-4af8-acff-2a1f75cec599"
      },
      "outputs": [
        {
          "output_type": "stream",
          "name": "stdout",
          "text": [
            "Requirement already satisfied: gdown in /usr/local/lib/python3.11/dist-packages (5.2.0)\n",
            "Requirement already satisfied: beautifulsoup4 in /usr/local/lib/python3.11/dist-packages (from gdown) (4.13.4)\n",
            "Requirement already satisfied: filelock in /usr/local/lib/python3.11/dist-packages (from gdown) (3.18.0)\n",
            "Requirement already satisfied: requests[socks] in /usr/local/lib/python3.11/dist-packages (from gdown) (2.32.3)\n",
            "Requirement already satisfied: tqdm in /usr/local/lib/python3.11/dist-packages (from gdown) (4.67.1)\n",
            "Requirement already satisfied: soupsieve>1.2 in /usr/local/lib/python3.11/dist-packages (from beautifulsoup4->gdown) (2.7)\n",
            "Requirement already satisfied: typing-extensions>=4.0.0 in /usr/local/lib/python3.11/dist-packages (from beautifulsoup4->gdown) (4.13.2)\n",
            "Requirement already satisfied: charset-normalizer<4,>=2 in /usr/local/lib/python3.11/dist-packages (from requests[socks]->gdown) (3.4.2)\n",
            "Requirement already satisfied: idna<4,>=2.5 in /usr/local/lib/python3.11/dist-packages (from requests[socks]->gdown) (3.10)\n",
            "Requirement already satisfied: urllib3<3,>=1.21.1 in /usr/local/lib/python3.11/dist-packages (from requests[socks]->gdown) (2.4.0)\n",
            "Requirement already satisfied: certifi>=2017.4.17 in /usr/local/lib/python3.11/dist-packages (from requests[socks]->gdown) (2025.4.26)\n",
            "Requirement already satisfied: PySocks!=1.5.7,>=1.5.6 in /usr/local/lib/python3.11/dist-packages (from requests[socks]->gdown) (1.7.1)\n"
          ]
        },
        {
          "output_type": "stream",
          "name": "stderr",
          "text": [
            "Downloading...\n",
            "From: https://drive.google.com/uc?id=1ebsf8Te7ZWJl4oorISaDYs-zeEv73G_Z\n",
            "To: /content/income.csv\n",
            "100%|██████████| 3.97M/3.97M [00:00<00:00, 117MB/s]\n"
          ]
        },
        {
          "output_type": "stream",
          "name": "stdout",
          "text": [
            "age                               39\n",
            "workclass                  State-gov\n",
            "fnlwgt                         77516\n",
            "education                  Bachelors\n",
            "education-num                     13\n",
            "marital-status         Never-married\n",
            "occupation              Adm-clerical\n",
            "relationship           Not-in-family\n",
            "race                           White\n",
            "sex                             Male\n",
            "capital-gain                    2174\n",
            "capital-loss                       0\n",
            "hours-per-week                    40\n",
            "native-country         United-States\n",
            "income                         <=50K\n",
            "sex-int                            1\n",
            "native-country-int                 1\n",
            "Name: 0, dtype: object\n",
            "Random Tree Classifier Accuracy: 0.8258199238422799\n",
            "              Feature  Importance Coeffs\n",
            "0                 age           0.339220\n",
            "1        capital-gain           0.221338\n",
            "2        capital-loss           0.084351\n",
            "3      hours-per-week           0.080730\n",
            "4             sex-int           0.000000\n",
            "5  native-country-int           0.000000\n",
            "6       education-num           0.193963\n",
            "7      hours-per-week           0.080399\n"
          ]
        }
      ],
      "source": [
        "# This random Tree Classifier estimates whether someone earns above or below 50k per year.\n",
        "\n",
        "\n",
        "\n",
        "def warn(*args, **kwargs):\n",
        "    pass\n",
        "import warnings\n",
        "warnings.warn = warn\n",
        "\n",
        "import pandas as pd\n",
        "from sklearn.model_selection import train_test_split\n",
        "from sklearn import tree\n",
        "from sklearn.ensemble import RandomForestClassifier\n",
        "!pip install gdown\n",
        "import gdown\n",
        "\n",
        "# Download data\n",
        "file_id = \"1ebsf8Te7ZWJl4oorISaDYs-zeEv73G_Z\"\n",
        "url = f\"https://drive.google.com/uc?id={file_id}\"\n",
        "gdown.download(url, \"income.csv\", quiet=False)\n",
        "\n",
        "# Define data column labels\n",
        "column_names = [\n",
        "    \"age\", \"workclass\", \"fnlwgt\", \"education\", \"education-num\",\n",
        "    \"marital-status\", \"occupation\", \"relationship\", \"race\", \"sex\",\n",
        "    \"capital-gain\", \"capital-loss\", \"hours-per-week\", \"native-country\", \"income\"\n",
        "]\n",
        "\n",
        "income_data = pd.read_csv(\"income.csv\", header = None, names=column_names, delimiter = \",\")\n",
        "income_data[\"sex-int\"] = income_data[\"sex\"].apply(lambda row:0 if row == \"Male\" else 1)\n",
        "income_data[\"native-country-int\"] = income_data[\"native-country\"].apply(lambda row:0 if row == \"United-States\" else 1)\n",
        "\n",
        "print(income_data.iloc[0])\n",
        "\n",
        "labels = income_data[[\"income\"]]\n",
        "\n",
        "data = income_data[[\"age\", \"capital-gain\", \"capital-loss\", \"hours-per-week\", \"sex-int\", \"native-country-int\", \"education-num\", \"hours-per-week\"]]\n",
        "\n",
        "train_data, test_data, train_labels, test_labels = train_test_split(data, labels, random_state = 1)\n",
        "\n",
        "forest = RandomForestClassifier(random_state = 1)\n",
        "\n",
        "forest.fit(train_data, train_labels)\n",
        "\n",
        "print(\"Random Tree Classifier Accuracy:\", forest.score(test_data, test_labels))\n",
        "\n",
        "importance_matrix = pd.DataFrame({ \"Feature\": data.columns, \"Importance Coeffs\": forest.feature_importances_})\n",
        "print(importance_matrix)"
      ]
    }
  ]
}